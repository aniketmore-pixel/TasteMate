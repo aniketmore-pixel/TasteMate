{
 "cells": [
  {
   "cell_type": "code",
   "execution_count": 18,
   "id": "7f5947e4-9eaf-4878-9ff3-c9c12498c179",
   "metadata": {},
   "outputs": [
    {
     "name": "stdout",
     "output_type": "stream",
     "text": [
      "Recipes successfully stored in MongoDB!\n"
     ]
    }
   ],
   "source": [
    "import pandas as pd\n",
    "import pymongo\n",
    "\n",
    "# Load the cleaned dataset\n",
    "df = pd.read_csv(\"my_cleaned_recipe_dataset.csv\")\n",
    "\n",
    "# Connect to MongoDB\n",
    "client = pymongo.MongoClient(\"mongodb://localhost:27017/\")\n",
    "db = client[\"recipe_db\"]\n",
    "collection = db[\"recipes\"]\n",
    "\n",
    "# Insert recipes into MongoDB\n",
    "recipes = df.to_dict(orient=\"records\")\n",
    "collection.insert_many(recipes)\n",
    "\n",
    "print(\"Recipes successfully stored in MongoDB!\")\n"
   ]
  },
  {
   "cell_type": "code",
   "execution_count": 19,
   "id": "66efc9bf-e700-4beb-97e9-6fc6eba8121c",
   "metadata": {},
   "outputs": [
    {
     "name": "stdout",
     "output_type": "stream",
     "text": [
      "{'_id': ObjectId('67c97ff332173461d0fb8694'), 'name': 'Thayir Semiya Recipe (Curd Semiya)', 'image_url': 'https://www.archanaskitchen.com/images/archanaskitchen/1-Author/Raksha_Kamat/Thayir_Curd_Semiya_recipe_Yogurt_Vermicelli_South_indian_Lunch_recipe-4.jpg', 'description': 'Thayir Semiya or Curd Vermicelli is a quick dish which you can make for lunch. If you are bored of eating curd rice everyday, you can always make this Thayir semiya or curd semiya for a change. In South India, people consume curd everyday.\\xa0', 'cuisine': 'Indian', 'course': 'Lunch', 'diet': 'Vegetarian', 'prep_time': 35.0, 'ingredients': '1/2 cup Semiya (Vermicelli) , roasted 1 cup Curd (Dahi / Yogurt) For tempering 1 teaspoon Mustard seeds (Rai/ Kadugu) 1/2 teaspoon White Urad Dal (Split) pinch Asafoetida (hing) 1 sprig Curry leaves 2 teaspoon Oil Raw Peanuts (Moongphali) 1 sprig Curry leaves 2 teaspoon Oil 5 to 6 Cashew nuts , for garnishing', 'instructions': 'To begin making the Thayir Semiya recipe, firstly boil the vermicelli in 2 cups water. Drain it and spread on a colander.Pass cold water through it. This ensures that the vermicelli does not become sticky. Keep it aside and let it cool down.Heat a kadai/wok and add oil. Add the peanuts and roast till it turns brownish. Remove and keep it aside.In the same kadai, add more oil if needed and add the mustard seeds and after it splutters add the other ingredients meant for tempering.Add the boiled vermicelli and mix everything. Add salt to taste and mix.Finally just before serving add curd and mix well.\\xa0Serve Thayir Semiya on its own for a light and healthy lunch or dinner'}\n"
     ]
    }
   ],
   "source": [
    "# Retrieve one recipe from the database\n",
    "sample_recipe = collection.find_one()\n",
    "print(sample_recipe)\n",
    "\n"
   ]
  },
  {
   "cell_type": "code",
   "execution_count": 20,
   "id": "98a567b3-3307-47e0-b96d-57d3214f0acf",
   "metadata": {},
   "outputs": [],
   "source": [
    "from sklearn.feature_extraction.text import TfidfVectorizer\n",
    "from sklearn.metrics.pairwise import cosine_similarity\n",
    "import pandas as pd\n",
    "import pymongo\n",
    "\n",
    "# Connect to MongoDB\n",
    "client = pymongo.MongoClient(\"mongodb://localhost:27017/\")\n",
    "db = client[\"recipe_db\"]\n",
    "collection = db[\"recipes\"]\n",
    "\n",
    "# Load recipes from MongoDB (fetching only necessary columns)\n",
    "recipes = list(collection.find({}, {\"_id\": 0, \"name\": 1, \"ingredients\": 1, \"instructions\": 1}))\n",
    "df = pd.DataFrame(recipes)\n",
    "\n",
    "# Convert ingredient lists to strings (for TF-IDF processing)\n",
    "df[\"ingredients_str\"] = df[\"ingredients\"].apply(lambda x: \" \".join(x) if isinstance(x, list) else str(x))\n",
    "\n",
    "# Convert ingredient lists to TF-IDF Vectors\n",
    "vectorizer = TfidfVectorizer()\n",
    "tfidf_matrix = vectorizer.fit_transform(df[\"ingredients_str\"])\n"
   ]
  },
  {
   "cell_type": "code",
   "execution_count": 22,
   "id": "334e20e6-8449-4219-8d29-a5bcff8b74c1",
   "metadata": {},
   "outputs": [
    {
     "name": "stdout",
     "output_type": "stream",
     "text": [
      "                                                          name  \\\n",
      "1504  Paal Kozhukattai Recipe With Bananas - With Vegan Option   \n",
      "3624                 Beetroot Halwa Recipe (With Vegan Option)   \n",
      "1595          Matar Masala Recipe - Peas In Onion Tomato Gravy   \n",
      "3607        Brown Rice Flakes Pudding / Desi Poha Kheer Recipe   \n",
      "3619                            Kerala Style Rice Halwa Recipe   \n",
      "\n",
      "                                                                                                                                                                                                                                                                                                                                                                                                                                                                                                                                                   ingredients  \\\n",
      "1504                                                                                                                                                                                                               For Rice Dumplings 1 cup Rice flour 1-1 1/2 cups Water 1 teaspoon Sesame (Gingelly) Oil 1/4 teaspoon Salt For Pudding 3 cups Milk , full fat milk or coconut milk for vegans 1 cup Coconut milk , thin 1/2 cup Coconut milk , thick 1 teaspoon Cardamom Powder (Elaichi) 3/4 cup Sugar , or Jaggery 1 cup Ripe Bananas , sliced for garnish   \n",
      "3624                                                                                                                                                                                                                                                              2 cups Beetroot , grated 2-3 teaspoons Ghee , or extra virgin coconut oil 3 Cardamom (Elaichi) Pods/Seeds , freshly ground 1-1/2 Almond Milk (Badam Milk) , or coconut milk (freshly extracted) 8 Pistachios , blanched and sliced 1/2 cup Dates , (adjust), soaked in warm water for 20 min   \n",
      "1595  1 cup Green peas (Matar) 2 tablespoon Oil 1 teaspoon Cumin seeds (Jeera) 1/2 teaspoon Turmeric powder (Haldi) 1-1/2 teaspoon Red Chilli powder 1 teaspoon Coriander Powder (Dhania) pinch Kasuri Methi (Dried Fenugreek Leaves) , generous pinch Salt , to taste 1/2 teaspoon Garam masala powder For masala paste 2 Onions , finely chopped 3 Tomatoes , chopped 3 Green Chillies , finely chopped 10 cloves Garlic , finely chopped 2 inch Ginger , finely chopped For cashew cream 20 Cashew nuts 1 to 2 teaspoon Almond Milk (Badam Milk) , or water   \n",
      "3607                                                                                                                                                                                                                                                                                                                                                                                                                                           1/2 cup Brown rice flakes 1 cup Water 2 cups Milk 3/4 cup Condensed Milk 1/2 teaspoon Cardamom Powder (Elaichi)   \n",
      "3619                                                                                                                                                                                                                                                                                                                                                                                  1 cup Rice flour 2 cups Jaggery , grated 1 cup Coconut milk , thick 3 cups Coconut milk , thin 1 teaspoon Cardamom Powder (Elaichi) 2 tablespoons Ghee Cashew nuts , few   \n",
      "\n",
      "                                                                                                                                                                                                                                                                                                                                                                                                                                                                                                                                                                                                                                                                                                                                                                                                                                                                                                                                                                                                                                                                                                                                                                                                                                                                                                                                                                                                                                                                                                                                                                                                                                                                                                                                                                                                                                                                                                                                instructions  \n",
      "1504  To begin making the Paal Kozhukattai Recipe With Bananas, let us start with preparing the rice dumplings. In a small pot, bring 2 1/2 cups of water to boil. Once the water starts boiling, add sesame oil and turn off the heat.In a bowl, add rice flour and salt. Combine them together. Add water slowly little by little and mix continuously to prepare the dough. Knead the dough together to prepare a soft dough.Once the dough comes together, grease your palm with oil and roll small balls of dough . I rolled the dough into small coin shaped ones as I preferred a different shape than the usual round ones. Ensure the dough is covered with damp cloth all the time to prevent it from losing its moisture. This also prevents the dough from cracking while cooking.Repeat the same with the entire dough and prepare small coins out of the dough. Keep the rolled balls covered with damp cloth at all times.In a nonstick pan, add milk and bring it to boil. Once the milk starts boiling, reduce the heat and add shaped rice balls into the milk.Cook the rice balls for about 5 minutes without stirring. Ensure that you don’t stir the rice balls until they are cooked to avoid breaking the rice balls.The balls will float on the top once it has been cooked.Now, add thin coconut milk and cardamom powder to the pot and bring it to boil.Add sugar and give a stir. Cook for few minutes until the sugar dissolves completely in the milk.Now, add thick coconut milk and turn off the heat. Remove the Paal Kozhukattai  from the heat. Ensure you don’t cook the Paal Kozhukattai after the addition of thick coconut milk.Serve warm or refrigerate for an hour before serving. Paal Kozhukattai tastes delicious either warm or cold.Serve Paal Kozhukattai Recipe With Bananas as a dessert after a festive meal of Steamed Rice, Mixed Vegetable Sambar, Carrot Beans Thoran and Elai Vadam.  \n",
      "3624                                                                                                                                                                                                                                                                                                                                                                                                                                                                                                                                                                                                                                                                                                                                                                                                                                                                                                                                                                                                                                                                                                            To prepare Beetroot Halwa Recipe (With Vegan Option), soak dates in hot water for 20 minutes, drain excess water into a bowl and grind this into a smooth paste by using the same soaking liquid if you need to add.In a thick bottomed pan, heat the Ghee/coconut oil, and saute grated beets for 3-5 minutes or until fragrant.Now add almond milk/milk/coconut milk and cook covered until all the liquid evaporates, stirring in between on low heat, if unattended it can easily catch the bottom. This should take between 8-12 minutes.Now add the date paste and cardamom powder, mix well until combined and cook on low heat till it all comes together and excess moisture is absorbed, 5-8 minutes approximately.Top Beetroot Halwa Recipe (With Vegan Option) with pistachios and enjoy either warm or chilled.  \n",
      "1595                                                                                                                                                                                                                                                                                                                                                                                                                                                                                                      To begin making the Matar Masala recipe, steam the peas until cooked. Keep aside. Into a preheated kadai add oil. l. Add onions, ginger and garlic and green chillies and sauté until onions turn translucent.Once the onions turn translucent add finely chopped tomatoes and cook until tomatoes turn soft and mushy. Turn off the heat.Let the mixture cool down. Add the tomato and onion mixture into a mixer grinder and grind into smooth paste.Keep aside. To make cashew cream, blend cashews and almond milk(or water) into thick paste, keep aside.In a wok/kadhai, add remaining oil. Add cumin seeds and let it splutter. Once the seeds have spluttered add the ground onion-tomato paste and cook until oil separates from the sides of the pan.Once done add all the spice powders, mix well and allow it to cook for another 3 minutes on medium flame.Add cooked green peas to the pan, continue to cook for another 5 minutes on low flame. Check for seasoning and adjust salt as required. Add kasuri methi and mix well.Once the masala comes together well, add cashew cream, mix well and let it bubble up for another 2 to 3 minutes on low heat. The masala will thicken now.Sprinkle some garam masala and give it a mix. Turn off the heat and garnish with fresh coriander leaves.Serve Matar Masala along with Phulka and Pudina rice and Tomato Onion Cucumber Raita for a weekday lunch or dinner.  \n",
      "3607                                                                                                                                                                                                                                                                                                                                                                                                                                                                                                                                                                                                                                                                                                                                                                                                                                                                                                                                                                                                                                                                                                                                                                                                                                                                                                                                                                                                                           To prepare Brown Rice Flakes Pudding/Desi Poha Kheer Recipe, rinse the poha well and soak in a cup of water for about 15 minutes.Drain all excess water.Transfer poha into a Pressure cooker.Add the milk and cardamom powder.Close the lid and pressure cook at low heat for 15-20 minutes until 1 whistle, or till cooked well.Switch off the flame and allow the pressure to release by itself.Mix in the condensed milk and serve Brown Rice Flakes Pudding/Desi Poha Kheer Recipe after a party dessert.  \n",
      "3619                                                                                                                                                                                                                                                                                                                                                                                                                                                                                                                                                                                               To begin making the Kerala Style Rice Halwa recipe, heat 1 tablespoon ghee in a pan. Add broken cashew nuts and fry till they start changing colour. Transfer them to a plate and keep aside.  Extract thick and thin coconut milk and keep them in different bowls.  Add grated jaggery, coconut milk, to a thick bottomed pan or uruli. Heat this mixture until the jaggery melts completely. Strain it to remove impurities. Clean the pan and add the mixture back to the pan. To this add rice flour, little at a time and mix well without lumps.  Cook this mixture on a medium flame, until it starts thickening.  Keep stirring in order to avoid sticking to the bottom of the pan. Once you find that the mixture starts thickening, reduce the flame to low, and add the thick coconut milk. Mix well.  Keep stirring continuously.  When it starts thickening, add 1 tablespoon of ghee.  Keep stirring and cook for another 30 - 35 minutes. Whenever you find the halwa sticking to the sides of the pan, add 1 tablespoon of ghee to the sides of the pan. Cook until the mixture gets a halwa consistency and starts leaving the sides of the pan.  Add roasted cashew nuts at this stage and mix well.  Spread the halwa onto a greased plate and allow it to cool.  Once cool, cut it into desired shapes and serve.    \n"
     ]
    }
   ],
   "source": [
    "def search_recipes_with_substitutes(user_ingredients, top_n=5):\n",
    "    # Expand user ingredients with possible substitutes\n",
    "    expanded_ingredients = set(user_ingredients)\n",
    "    for ing in user_ingredients:\n",
    "        if ing in ingredient_substitutes:\n",
    "            expanded_ingredients.update(ingredient_substitutes[ing])\n",
    "    \n",
    "    # Convert expanded user input into TF-IDF format\n",
    "    user_query = \" \".join(expanded_ingredients)\n",
    "    query_vector = vectorizer.transform([user_query])\n",
    "\n",
    "    # Compute similarity scores\n",
    "    similarities = cosine_similarity(query_vector, tfidf_matrix)[0]\n",
    "\n",
    "    # Calculate match scores\n",
    "    match_scores = []\n",
    "    for idx, sim_score in enumerate(similarities):\n",
    "        recipe_ingredients = set(df.iloc[idx][\"ingredients\"])\n",
    "        \n",
    "        # Count matching & substitute ingredients\n",
    "        match_count = sum(1 for ing in expanded_ingredients if ing in recipe_ingredients)\n",
    "        missing_count = len(user_ingredients) - match_count\n",
    "        \n",
    "        # Final score: Similarity Score + Ingredient Match Count - Missing Ingredient Penalty\n",
    "        final_score = sim_score + (match_count * 1.5) - (missing_count * 0.5)\n",
    "        \n",
    "        match_scores.append((idx, final_score))\n",
    "\n",
    "    # Sort by highest match score\n",
    "    ranked_recipes = sorted(match_scores, key=lambda x: x[1], reverse=True)[:top_n]\n",
    "    \n",
    "    # Return top-ranked recipes\n",
    "    return df.iloc[[idx for idx, _ in ranked_recipes]][[\"name\", \"ingredients\", \"instructions\"]]\n",
    "\n",
    "# Example Usage\n",
    "user_ingredients = [\"tomato\", \"garlic\", \"milk\"]  # Even if milk is missing, it can use almond milk!\n",
    "recommended_recipes = search_recipes_with_substitutes(user_ingredients)\n",
    "print(recommended_recipes)\n"
   ]
  },
  {
   "cell_type": "code",
   "execution_count": null,
   "id": "81cf68ae-b913-4f9b-899c-d0e1f7a9763d",
   "metadata": {},
   "outputs": [],
   "source": []
  },
  {
   "cell_type": "code",
   "execution_count": 23,
   "id": "6bdc1040-1db6-4195-ab2b-4ff6cf15e53d",
   "metadata": {},
   "outputs": [
    {
     "name": "stdout",
     "output_type": "stream",
     "text": [
      "Results saved! Open 'recommended_recipes.csv' to view full output.\n"
     ]
    }
   ],
   "source": [
    "recommended_recipes.to_csv(\"recommended_recipes.csv\", index=False)\n",
    "print(\"Results saved! Open 'recommended_recipes.csv' to view full output.\")\n"
   ]
  },
  {
   "cell_type": "code",
   "execution_count": 5,
   "id": "76fe8a2b-8e33-49fc-baad-b1bd37ca373b",
   "metadata": {},
   "outputs": [
    {
     "name": "stdout",
     "output_type": "stream",
     "text": [
      "Total Recipes in Dataset: 4235\n"
     ]
    }
   ],
   "source": [
    "print(\"Total Recipes in Dataset:\", len(df))\n"
   ]
  },
  {
   "cell_type": "code",
   "execution_count": 21,
   "id": "c3e6deaf-d5c5-4e32-9c4d-5f9e0e5bf008",
   "metadata": {},
   "outputs": [],
   "source": [
    "ingredient_substitutes = {\n",
    "    \"butter\": [\"margarine\", \"coconut oil\"],\n",
    "    \"cream\": [\"yogurt\", \"coconut milk\"],\n",
    "    \"garlic\": [\"garlic powder\", \"onion\"],\n",
    "    \"sugar\": [\"honey\", \"stevia\"],\n",
    "    \"tomato\": [\"tomato paste\", \"sun-dried tomatoes\"],\n",
    "    \"milk\": [\"almond milk\", \"coconut milk\", \"soy milk\"]\n",
    "}\n"
   ]
  },
  {
   "cell_type": "code",
   "execution_count": 24,
   "id": "10e68cae-5c5f-421c-89f4-84980e56c153",
   "metadata": {},
   "outputs": [
    {
     "name": "stdout",
     "output_type": "stream",
     "text": [
      "                                                          name  \\\n",
      "1504  Paal Kozhukattai Recipe With Bananas - With Vegan Option   \n",
      "3624                 Beetroot Halwa Recipe (With Vegan Option)   \n",
      "1595          Matar Masala Recipe - Peas In Onion Tomato Gravy   \n",
      "3607        Brown Rice Flakes Pudding / Desi Poha Kheer Recipe   \n",
      "3619                            Kerala Style Rice Halwa Recipe   \n",
      "\n",
      "                                                                                                                                                                                                                                                                                                                                                                                                                                                                                                                                                   ingredients  \\\n",
      "1504                                                                                                                                                                                                               For Rice Dumplings 1 cup Rice flour 1-1 1/2 cups Water 1 teaspoon Sesame (Gingelly) Oil 1/4 teaspoon Salt For Pudding 3 cups Milk , full fat milk or coconut milk for vegans 1 cup Coconut milk , thin 1/2 cup Coconut milk , thick 1 teaspoon Cardamom Powder (Elaichi) 3/4 cup Sugar , or Jaggery 1 cup Ripe Bananas , sliced for garnish   \n",
      "3624                                                                                                                                                                                                                                                              2 cups Beetroot , grated 2-3 teaspoons Ghee , or extra virgin coconut oil 3 Cardamom (Elaichi) Pods/Seeds , freshly ground 1-1/2 Almond Milk (Badam Milk) , or coconut milk (freshly extracted) 8 Pistachios , blanched and sliced 1/2 cup Dates , (adjust), soaked in warm water for 20 min   \n",
      "1595  1 cup Green peas (Matar) 2 tablespoon Oil 1 teaspoon Cumin seeds (Jeera) 1/2 teaspoon Turmeric powder (Haldi) 1-1/2 teaspoon Red Chilli powder 1 teaspoon Coriander Powder (Dhania) pinch Kasuri Methi (Dried Fenugreek Leaves) , generous pinch Salt , to taste 1/2 teaspoon Garam masala powder For masala paste 2 Onions , finely chopped 3 Tomatoes , chopped 3 Green Chillies , finely chopped 10 cloves Garlic , finely chopped 2 inch Ginger , finely chopped For cashew cream 20 Cashew nuts 1 to 2 teaspoon Almond Milk (Badam Milk) , or water   \n",
      "3607                                                                                                                                                                                                                                                                                                                                                                                                                                           1/2 cup Brown rice flakes 1 cup Water 2 cups Milk 3/4 cup Condensed Milk 1/2 teaspoon Cardamom Powder (Elaichi)   \n",
      "3619                                                                                                                                                                                                                                                                                                                                                                                  1 cup Rice flour 2 cups Jaggery , grated 1 cup Coconut milk , thick 3 cups Coconut milk , thin 1 teaspoon Cardamom Powder (Elaichi) 2 tablespoons Ghee Cashew nuts , few   \n",
      "\n",
      "                                                                                                                                                                                                                                                                                                                                                                                                                                                                                                                                                                                                                                                                                                                                                                                                                                                                                                                                                                                                                                                                                                                                                                                                                                                                                                                                                                                                                                                                                                                                                                                                                                                                                                                                                                                                                                                                                                                                instructions  \n",
      "1504  To begin making the Paal Kozhukattai Recipe With Bananas, let us start with preparing the rice dumplings. In a small pot, bring 2 1/2 cups of water to boil. Once the water starts boiling, add sesame oil and turn off the heat.In a bowl, add rice flour and salt. Combine them together. Add water slowly little by little and mix continuously to prepare the dough. Knead the dough together to prepare a soft dough.Once the dough comes together, grease your palm with oil and roll small balls of dough . I rolled the dough into small coin shaped ones as I preferred a different shape than the usual round ones. Ensure the dough is covered with damp cloth all the time to prevent it from losing its moisture. This also prevents the dough from cracking while cooking.Repeat the same with the entire dough and prepare small coins out of the dough. Keep the rolled balls covered with damp cloth at all times.In a nonstick pan, add milk and bring it to boil. Once the milk starts boiling, reduce the heat and add shaped rice balls into the milk.Cook the rice balls for about 5 minutes without stirring. Ensure that you don’t stir the rice balls until they are cooked to avoid breaking the rice balls.The balls will float on the top once it has been cooked.Now, add thin coconut milk and cardamom powder to the pot and bring it to boil.Add sugar and give a stir. Cook for few minutes until the sugar dissolves completely in the milk.Now, add thick coconut milk and turn off the heat. Remove the Paal Kozhukattai  from the heat. Ensure you don’t cook the Paal Kozhukattai after the addition of thick coconut milk.Serve warm or refrigerate for an hour before serving. Paal Kozhukattai tastes delicious either warm or cold.Serve Paal Kozhukattai Recipe With Bananas as a dessert after a festive meal of Steamed Rice, Mixed Vegetable Sambar, Carrot Beans Thoran and Elai Vadam.  \n",
      "3624                                                                                                                                                                                                                                                                                                                                                                                                                                                                                                                                                                                                                                                                                                                                                                                                                                                                                                                                                                                                                                                                                                            To prepare Beetroot Halwa Recipe (With Vegan Option), soak dates in hot water for 20 minutes, drain excess water into a bowl and grind this into a smooth paste by using the same soaking liquid if you need to add.In a thick bottomed pan, heat the Ghee/coconut oil, and saute grated beets for 3-5 minutes or until fragrant.Now add almond milk/milk/coconut milk and cook covered until all the liquid evaporates, stirring in between on low heat, if unattended it can easily catch the bottom. This should take between 8-12 minutes.Now add the date paste and cardamom powder, mix well until combined and cook on low heat till it all comes together and excess moisture is absorbed, 5-8 minutes approximately.Top Beetroot Halwa Recipe (With Vegan Option) with pistachios and enjoy either warm or chilled.  \n",
      "1595                                                                                                                                                                                                                                                                                                                                                                                                                                                                                                      To begin making the Matar Masala recipe, steam the peas until cooked. Keep aside. Into a preheated kadai add oil. l. Add onions, ginger and garlic and green chillies and sauté until onions turn translucent.Once the onions turn translucent add finely chopped tomatoes and cook until tomatoes turn soft and mushy. Turn off the heat.Let the mixture cool down. Add the tomato and onion mixture into a mixer grinder and grind into smooth paste.Keep aside. To make cashew cream, blend cashews and almond milk(or water) into thick paste, keep aside.In a wok/kadhai, add remaining oil. Add cumin seeds and let it splutter. Once the seeds have spluttered add the ground onion-tomato paste and cook until oil separates from the sides of the pan.Once done add all the spice powders, mix well and allow it to cook for another 3 minutes on medium flame.Add cooked green peas to the pan, continue to cook for another 5 minutes on low flame. Check for seasoning and adjust salt as required. Add kasuri methi and mix well.Once the masala comes together well, add cashew cream, mix well and let it bubble up for another 2 to 3 minutes on low heat. The masala will thicken now.Sprinkle some garam masala and give it a mix. Turn off the heat and garnish with fresh coriander leaves.Serve Matar Masala along with Phulka and Pudina rice and Tomato Onion Cucumber Raita for a weekday lunch or dinner.  \n",
      "3607                                                                                                                                                                                                                                                                                                                                                                                                                                                                                                                                                                                                                                                                                                                                                                                                                                                                                                                                                                                                                                                                                                                                                                                                                                                                                                                                                                                                                           To prepare Brown Rice Flakes Pudding/Desi Poha Kheer Recipe, rinse the poha well and soak in a cup of water for about 15 minutes.Drain all excess water.Transfer poha into a Pressure cooker.Add the milk and cardamom powder.Close the lid and pressure cook at low heat for 15-20 minutes until 1 whistle, or till cooked well.Switch off the flame and allow the pressure to release by itself.Mix in the condensed milk and serve Brown Rice Flakes Pudding/Desi Poha Kheer Recipe after a party dessert.  \n",
      "3619                                                                                                                                                                                                                                                                                                                                                                                                                                                                                                                                                                                               To begin making the Kerala Style Rice Halwa recipe, heat 1 tablespoon ghee in a pan. Add broken cashew nuts and fry till they start changing colour. Transfer them to a plate and keep aside.  Extract thick and thin coconut milk and keep them in different bowls.  Add grated jaggery, coconut milk, to a thick bottomed pan or uruli. Heat this mixture until the jaggery melts completely. Strain it to remove impurities. Clean the pan and add the mixture back to the pan. To this add rice flour, little at a time and mix well without lumps.  Cook this mixture on a medium flame, until it starts thickening.  Keep stirring in order to avoid sticking to the bottom of the pan. Once you find that the mixture starts thickening, reduce the flame to low, and add the thick coconut milk. Mix well.  Keep stirring continuously.  When it starts thickening, add 1 tablespoon of ghee.  Keep stirring and cook for another 30 - 35 minutes. Whenever you find the halwa sticking to the sides of the pan, add 1 tablespoon of ghee to the sides of the pan. Cook until the mixture gets a halwa consistency and starts leaving the sides of the pan.  Add roasted cashew nuts at this stage and mix well.  Spread the halwa onto a greased plate and allow it to cool.  Once cool, cut it into desired shapes and serve.    \n"
     ]
    }
   ],
   "source": [
    "pd.set_option(\"display.max_colwidth\", None)  # Show full text in columns\n",
    "pd.set_option(\"display.max_rows\", 100)  # Show more rows\n",
    "pd.set_option(\"display.max_columns\", None)  # Show all columns\n",
    "\n",
    "# Print expanded results\n",
    "print(recommended_recipes)\n"
   ]
  },
  {
   "cell_type": "code",
   "execution_count": 13,
   "id": "d6d9d1e0-fcbf-4bbb-aa2a-c7b7280290f1",
   "metadata": {},
   "outputs": [
    {
     "name": "stdout",
     "output_type": "stream",
     "text": [
      "Total Recipes Before Removing Duplicates: 12705\n",
      "Number of Duplicate Entries: 12705\n",
      "                                                                 name  \\\n",
      "0                                  Thayir Semiya Recipe (Curd Semiya)   \n",
      "1        Chettinad Style Kara Kuzhambu Recipe with Potato and Brinjal   \n",
      "2                            Goan Chana Ros Recipe (White Peas Curry)   \n",
      "3                               Minced Meat And Egg Croquettes Recipe   \n",
      "4                                                Thekera Tenga Recipe   \n",
      "...                                                               ...   \n",
      "12700         Stir Fry Green beans and Tofu with Panch Phoron Recipe    \n",
      "12701                                Dhuska Recipe (Rice Fried Bread)   \n",
      "12702               Khatta Meetha Petha Recipe (Yellow Pumpkin Sabzi)   \n",
      "12703  Patta Gobi Matar Nu Shaak Recipe (Cabbage & Peas Sabzi Recipe)   \n",
      "12704              Kerala Pumpkin Pachadi Recipe (Parangikai Pachadi)   \n",
      "\n",
      "                                                                                                                                                                                                                                                                                                                                                                                                                                                                                                                                                                                       ingredients  \\\n",
      "0                                                                                                                                                                                                                                                                           1/2 cup Semiya (Vermicelli) , roasted 1 cup Curd (Dahi / Yogurt) For tempering 1 teaspoon Mustard seeds (Rai/ Kadugu) 1/2 teaspoon White Urad Dal (Split) pinch Asafoetida (hing) 1 sprig Curry leaves 2 teaspoon Oil Raw Peanuts (Moongphali) 1 sprig Curry leaves 2 teaspoon Oil 5 to 6 Cashew nuts , for garnishing   \n",
      "1      For ground masala 1/4 teaspoon Methi Seeds (Fenugreek Seeds) 2 teaspoons Coriander (Dhania) Seeds 1 teaspoon Fennel seeds (Saunf) 2 Dry Red Chillies 1/4 cup Fresh coconut , grated For the Kuzhambu 1/2 cup Pearl onions (Sambar Onions) , quartered 5 cloves Garlic , finely chopped 2 Tomatoes , finely chopped 2 Potatoes (Aloo) , cut into medium sized pieces 2 Brinjal (Baingan / Eggplant) , cut into wedges 1 tablespoon Jaggery 1 cup Tamarind Water 1 teaspoon Sambar Powder For seasoning 1 teaspoon Gingelly oil 1/2 teaspoon Mustard seeds (Rai/ Kadugu) 2 sprig Curry leaves   \n",
      "2                                                                                                                                                                                                                                                                                                                                    1/2 cup Dried Green Peas (Vatana) , soaked overnight 1/2 Onion , chopped 3 tablespoon Fresh coconut , grated 4 Dry Red Chillies 1-1/2 teaspoon Coriander (Dhania) Seeds 3 Cloves (Laung) 1 inch Tamarind 1/2 teaspoon Turmeric powder (Haldi) Salt , to taste   \n",
      "3                                                                                                                                                      500 grams Mutton , minced 4 Whole Eggs , boiled and peeled 1 Onion , finely chopped 1 teaspoon Ginger Garlic Paste 1 tablespoon Red Chilli powder 1 teaspoon Turmeric powder (Haldi) 1 teaspoon Cumin powder (Jeera) 1-1/2 teaspoon Coriander Powder (Dhania) Salt , Salt to taste 1 tablespoon Oil Water , if required 2 tablespoon All Purpose Flour (Maida) 2 Whole Eggs , beaten 1/4 cup Whole Wheat Bread crumbs Oil , for deep frying   \n",
      "4                                                                                                                                                                                                4 Potatoes (Aloo) , thinly sliced 1 tablespoon Mustard oil 1/4 teaspoon Turmeric powder (Haldi) 1 tablespoon Rice flour , or 1 mashed potato 2 teaspoons Lemon juice , or 3-4 thekera pieces soaked in 1/4 cup of water Salt , to taste For tempering 1 teaspoon Mustard oil 1 teaspoon Panch Phoran Masala 4 Green Chillies , roughly chopped 4 sprig Coriander (Dhania) Leaves , finely chopped   \n",
      "...                                                                                                                                                                                                                                                                                                                                                                                                                                                                                                                                                                                            ...   \n",
      "12700                                                                                                                                                                                                                                                                                                                                  1 cup Green beans (French Beans) , chopped into half 1 cup Tofu , crumbled 1 Onion , sliced 1 teaspoon Turmeric powder (Haldi) 1 teaspoon Mustard seeds (Rai/ Kadugu) 1 sprig Curry leaves 2 teaspoon Panch Phoran Masala Salt , to taste Oil , for cooking   \n",
      "12701                                                                                                                                                                                                                      1 cup Basmati rice , washed and soaked in water for 4 to 5 hours 1/2 cup Chana dal (Bengal Gram Dal) , washed and soaked in water for 4 to 5 hours 2 tablespoons Green peas (Matar) 3 Green Chillies , finely chopped Salt , to taste 2 tablespoon Coriander (Dhania) Leaves , finely chopped 1/5 teaspoon Turmeric powder (Haldi) Mustard oil , as required to deep fr   \n",
      "12702                                                                                                                                                                                                                                                                                                                                                            1 Kaddu (Parangikai/ Pumpkin) 4 Green Chillies 1 teaspoon Fennel seeds (Saunf) 1/2 teaspoon Whole Black Peppercorns 1 tablespoon Oil 1 teaspoon Sugar Salt 1 Amchur (Dry Mango Powder) Coriander (Dhania) Leaves , finely chopped   \n",
      "12703                                                                                                                                                                                                                        3 cups Cabbage (Patta Gobi/ Muttaikose) , finely chopped 1/2 cup Green peas (Matar) 1 teaspoon Mustard seeds (Rai/ Kadugu) 1 Bay leaf (tej patta) , roughly torn 1 sprig Curry leaves , roughly torn 1 Tomato , finely chopped 1/2 teaspoon Turmeric powder (Haldi) 1/2 teaspoon Red Chilli powder 1/2 teaspoon Garam masala powder Salt , to taste Oil , for cooking   \n",
      "12704                                                                                                                                                                                                                                     Ingredients 300 grams Kaddu (Parangikai/ Pumpkin) 1/2 teaspoon Turmeric powder (Haldi) 2 teaspoons Jaggery Salt , to taste To Grind 1/2 cup Fresh coconut , grated 1 Green Chilli 1 inch Ginger , grated 1 sprig Curry leaves To Season 1 teaspoon Oil 1/2 teaspoon Mustard seeds (Rai/ Kadugu) 1/2 teaspoon White Urad Dal (Split) 1 sprig Curry leaves   \n",
      "\n",
      "                                                                                                                                                                                                                                                                                                                                                                                                                                                                                                                                                                                                                                                                                                                                                                                                                                                                                                                                                                                                                                                                                                                                                                                                                                                                                                                                                                        instructions  \\\n",
      "0                                                                                                                                                                                                                                                                                                                                                                                                                                                                                                                                                                                                                                                                               To begin making the Thayir Semiya recipe, firstly boil the vermicelli in 2 cups water. Drain it and spread on a colander.Pass cold water through it. This ensures that the vermicelli does not become sticky. Keep it aside and let it cool down.Heat a kadai/wok and add oil. Add the peanuts and roast till it turns brownish. Remove and keep it aside.In the same kadai, add more oil if needed and add the mustard seeds and after it splutters add the other ingredients meant for tempering.Add the boiled vermicelli and mix everything. Add salt to taste and mix.Finally just before serving add curd and mix well. Serve Thayir Semiya on its own for a light and healthy lunch or dinner   \n",
      "1      To begin making the Chettinad Style Kara Kuzhambu Recipe, we will first make the masala. Heat a small pan on medium heat; add fenugreek seeds, coriander seeds, fennel seeds, red chillies. Roast these spices until the aroma wafts in the air. Stir in the freshly grated coconut and roast for another 2 to 3 minutes. Turn off the heat and allow the spices to cool. Transfer the spices into a mixer jar, add 1/2 cup warm water and grind to make a smooth paste.To cook the kara kuzhambu, heat oil in a pressure cooker over medium heat; add the onion, garlic and saute for a few minutes until the onion softens. Add the chopped tomatoes and saute until the tomatoes are mushy.Stir in the potatoes, brinjal, jaggery, tamarind water, sambar powder and salt. Pressure cook for 3 to whistles and turn off the heat and allow the pressure to release naturally.In the meantime, make the seasoning; heat oil in a tadka pan; add the mustard seeds and curry leaves and allow it to crackle. Turn off the heat and keep aside. Once the pressure releases, stir in the coconut mixture, the seasoning mixture and give the Chetinnad Kara Kuzhambu a brisk boil for 3 to 4 minutes. Check the salt and adjust according to taste.Serve hot Chettinadu Style Potato Kaarakozhambu along with Steamed Rice, Beetroot Thoran and Elai Vadam for a weekday meal.   \n",
      "2                                                                                                                                                                                                                                                                                                                                                                                                                               To prepare Goan Chana Ros recipe, soak the white peas in water for 8 hours or overnight.Pressure cook the white peas along with chopped onions by adding 1 cup water for 4-5 whistles or till boiled. Let the pressure from pressure cooker get released on its own.Dry roast coriander seeds, dry red chilies and cloves together, till nice aroma gets emitted from coriander seeds. Let it cool down.Take a Mixer and add grated coconut, tamarind and dry roasted spices. Add 1/2 to 3/4 cup water and grind this into a smooth paste.Now take a Kadai and add the ground gravy to it. Switch on the gas and keep it on low flame.After 5 minutes, add the boiled white peas along with onion to the gravy and mix well. If the gravy is thick, add remaining water from the pressure cooker and mix.Add salt to taste and simmer for 10 minutes before switching off the gas.Serve Goan Chana Ros recipe with hot rice, Kelyachyo Fodi (banana)   \n",
      "3                                                                                                        To begin making the Minced Meat And Egg Croquettes recipe, heat oil in a heavy bottomed pan. Add finely chopped onion sauté until onions turn translucent.Add ginger garlic paste and cook till the raw smell of the paste goes off. Add the spice powders and salt mix well.Add minced mutton and cook for 5 minutes. Mutton will release its juices. I cooked the meat in its own juices without adding any water.Took about 30 minutes to get it fully cooked. Remove from stove and cool completely.Heat oil for deep frying in a deep fry pan. Divide the minced mutton mixture into 4 equal portions.Take one portion and place it in your palm, press and try to get it together.Slightly flatten it and place one full boiled egg in the middle and gather the meat to cover the egg fully. Try to shape it into cylindrical shape.If you find it too hard to handle the meat to shape it, try adding 1 or 2 teaspoon of beaten egg and work with the meat.Roll the croquettes in flour first, then dip it in egg and then roll with bread crumbs.Repeat this for all the meat. Deep fry the croquettes until golden brown in oil. Remove of kitchen paper.Serve Minced Meat And Egg Croquettes hot with Tomato Garlic Chutney or any dipping sauce of your choice.   \n",
      "4                                                                                                                                                                                                                                                                                                                                                                                                                                                                                                                                                                                                                                                                                                                                   To begin making the Thekera Tenga recipe, Heat a wide pan with oil and shallow fry the potato pieces and set them aside.Heat oil and temper with ingredients given 'for tempering'.Add 1-2 cups of water, salt and turmeric powder .Mix rice flour with one tablespoon of water (or 1 mashed potato) and add it to the water mixture. When the mixture starts to thicken, add lemon juice ( or thekera water ) and  the roasted potatoes.Cook over low flame for another 4-5 minutes and switch off.  Garnish with cilantro leaves and serve it along with flatbreads or rice. Serve Thekera Tenga along with Steamed Rice for a weekday dinner.   \n",
      "...                                                                                                                                                                                                                                                                                                                                                                                                                                                                                                                                                                                                                                                                                                                                                                                                                                                                                                                                                                                                                                                                                                                                                                                                                                                                                                                                                                              ...   \n",
      "12700                                                                                                                                                                                                                                                                                                                                                                                                                                                                                                                                                                                                                                                                                                                                                      We begin making the Stir Fry Green beans and Tofu with Panch Phoron Recipe by pressure cooking the green beans in the pressure cooker with salt and water for about 2 whistle. Release the pressure naturally, strain the water and keep it aside.Heat a kadai with oil, splutter the mustard seeds and curry leaves. Then add the sliced onion and saute till it is translucent.Once done add in the boiled beans and tofu. Sprinkle the spice powders and saute till it is mixed well. Serve the Stir Fry Green beans and Tofu with Panch Phoron Recipe can be served along with phulka or just with vegetable pulao. s   \n",
      "12701                                                                                                                                                                                                                                                                                                                                                                                                                                                                                                                                                                                                                                                                                                                                                                                                                                                      To begin making the Dhuska, grind rice and chana dal with water to a idli/dosa batter consistency.Now add green peas, green chillies, salt, turmeric powder and chopped coriander. Mix well.Heat oil in a pan. When the oil is hot, pour some batter directly in the oil with the help of a laddle.Deep fry both the sides till it changes the colour.Transfer them on a paper towel. Repeat the process with with remaining batter.Serve Dhuska along with Aloo Sabzi and Dhaniya Pudina Chutney for lunch on a weekend.   \n",
      "12702                                                                                                                        To begin making the Yellow Pumpkin Sabzi, first peel, deseed and cut the pumpkin into cubes of approximately 3/4 inch each. Chop the green chillies as well and keep aside.In a kadai or skillet on medium heat. Dry roast the fennel seeds and peppercorns over medium heat till fragrant. Transfer them to a bowl and set aside to cool.In the same skillet, heat oil over medium heat and add the pumpkin cubes to it, stir in the salt and cook pumpkin for few minutes until it begins to become soft.Reduce the heat to low, add sugar, salt, green chillies and stir to combine. Cover the skillet with a lid and cook till the pumpkin softens and cooked all the way through.In the meanwhile, pound the fennel and pepper to a coarse powder using a mortar-pestle or in the dry spice grinding jar of the mixer to a coarse powder.Open the lid of the skillet, add the fennel-pepper powder along with dry mango powder and stir to combine. Adjust the salt and spices to taste. Cook for another minute or so and turn off the heat.Stir in the chopped coriander leaves and serve. Serve Khatta Meetha Petha with Phulka and Raita for a wholesome and light lunch or even pack it into your lunch box along with a glass of buttermilk.   \n",
      "12703                                                                                                                                                                                                                                                                                                                                                                                                                    To begin making the Patta Gobi Matar Nu Shaak, first prep all the ingredients and keep them ready. Add the chopped cabbage and the green peas into the pressure cooker, sprinkle some salt and 3 tablespoons water.Pressure cooker for just two whistles and turn off the heat. Release the pressure immediately so the peas remain green and the vegetables don't get overcooked.Keep this aside. In a heavy bottomed pan, add the mustard seeds and allow it to crackle. Add the bay leaf, curry leaves and tomatoes.Saute one medium heat until the tomatoes are lightly softeted. Add the remaining spice ingredients and give it a stir.Add the cooked cabbage and peas, and saute until well combined. Cover and allow it to cook for a couple of minutes till all the flavors are absorbed by the Patta Gobi.Once done, turn off the heat and serve warm.Serve the Patta Gobi Matar Ki Sabzi along with Khatta Mag and Phulkas for a wholesome meal.   \n",
      "12704                                                                                                                                                                                                                                                                                                                                  To begin making the Kerala Pumpkin Pachadi Recipe (Parangikai Pachadi), place the cut pumpkins in the pressure cooker, sprinkle the salt and turmeric powder, add a tablespoon of water and cook for just one whistle.After the whistle, turn off the heat and release the pressure immediately by running it under cold water. Open the cooker and keep the pumpkin aside.The next step is to grind the ingredients into a coarse paste (mentioned in the \"To Grind\" section).Once ground, add the coconut mixture to the cooked pumpkin and give it a stir. Check the salt and spices and adjust accordingly.The final step is the seasoning. Heat oil in a small pan, add the mustard seeds, urad dal and curry leaves. Allow the urad dal to get roasted until golden in color.Add the seasoning over the Kerala Pumpkin Pachadi and serve.Serve the Kerala Pumpkin Pachadi, as a side dish along with Kerala Style Pulissery Recipe (Mor Kuzhambu), Phulka and Spicy Potato Roast Recipe (Urulaikizhangu Poriyal) for a comforting meal.   \n",
      "\n",
      "                                                                                                                                                                                                                                                                                                                                                                                                                                                                                                                                                                                   ingredients_str  \n",
      "0                                                                                                                                                                                                                                                                           1/2 cup Semiya (Vermicelli) , roasted 1 cup Curd (Dahi / Yogurt) For tempering 1 teaspoon Mustard seeds (Rai/ Kadugu) 1/2 teaspoon White Urad Dal (Split) pinch Asafoetida (hing) 1 sprig Curry leaves 2 teaspoon Oil Raw Peanuts (Moongphali) 1 sprig Curry leaves 2 teaspoon Oil 5 to 6 Cashew nuts , for garnishing  \n",
      "1      For ground masala 1/4 teaspoon Methi Seeds (Fenugreek Seeds) 2 teaspoons Coriander (Dhania) Seeds 1 teaspoon Fennel seeds (Saunf) 2 Dry Red Chillies 1/4 cup Fresh coconut , grated For the Kuzhambu 1/2 cup Pearl onions (Sambar Onions) , quartered 5 cloves Garlic , finely chopped 2 Tomatoes , finely chopped 2 Potatoes (Aloo) , cut into medium sized pieces 2 Brinjal (Baingan / Eggplant) , cut into wedges 1 tablespoon Jaggery 1 cup Tamarind Water 1 teaspoon Sambar Powder For seasoning 1 teaspoon Gingelly oil 1/2 teaspoon Mustard seeds (Rai/ Kadugu) 2 sprig Curry leaves  \n",
      "2                                                                                                                                                                                                                                                                                                                                    1/2 cup Dried Green Peas (Vatana) , soaked overnight 1/2 Onion , chopped 3 tablespoon Fresh coconut , grated 4 Dry Red Chillies 1-1/2 teaspoon Coriander (Dhania) Seeds 3 Cloves (Laung) 1 inch Tamarind 1/2 teaspoon Turmeric powder (Haldi) Salt , to taste  \n",
      "3                                                                                                                                                      500 grams Mutton , minced 4 Whole Eggs , boiled and peeled 1 Onion , finely chopped 1 teaspoon Ginger Garlic Paste 1 tablespoon Red Chilli powder 1 teaspoon Turmeric powder (Haldi) 1 teaspoon Cumin powder (Jeera) 1-1/2 teaspoon Coriander Powder (Dhania) Salt , Salt to taste 1 tablespoon Oil Water , if required 2 tablespoon All Purpose Flour (Maida) 2 Whole Eggs , beaten 1/4 cup Whole Wheat Bread crumbs Oil , for deep frying  \n",
      "4                                                                                                                                                                                                4 Potatoes (Aloo) , thinly sliced 1 tablespoon Mustard oil 1/4 teaspoon Turmeric powder (Haldi) 1 tablespoon Rice flour , or 1 mashed potato 2 teaspoons Lemon juice , or 3-4 thekera pieces soaked in 1/4 cup of water Salt , to taste For tempering 1 teaspoon Mustard oil 1 teaspoon Panch Phoran Masala 4 Green Chillies , roughly chopped 4 sprig Coriander (Dhania) Leaves , finely chopped  \n",
      "...                                                                                                                                                                                                                                                                                                                                                                                                                                                                                                                                                                                            ...  \n",
      "12700                                                                                                                                                                                                                                                                                                                                  1 cup Green beans (French Beans) , chopped into half 1 cup Tofu , crumbled 1 Onion , sliced 1 teaspoon Turmeric powder (Haldi) 1 teaspoon Mustard seeds (Rai/ Kadugu) 1 sprig Curry leaves 2 teaspoon Panch Phoran Masala Salt , to taste Oil , for cooking  \n",
      "12701                                                                                                                                                                                                                      1 cup Basmati rice , washed and soaked in water for 4 to 5 hours 1/2 cup Chana dal (Bengal Gram Dal) , washed and soaked in water for 4 to 5 hours 2 tablespoons Green peas (Matar) 3 Green Chillies , finely chopped Salt , to taste 2 tablespoon Coriander (Dhania) Leaves , finely chopped 1/5 teaspoon Turmeric powder (Haldi) Mustard oil , as required to deep fr  \n",
      "12702                                                                                                                                                                                                                                                                                                                                                            1 Kaddu (Parangikai/ Pumpkin) 4 Green Chillies 1 teaspoon Fennel seeds (Saunf) 1/2 teaspoon Whole Black Peppercorns 1 tablespoon Oil 1 teaspoon Sugar Salt 1 Amchur (Dry Mango Powder) Coriander (Dhania) Leaves , finely chopped  \n",
      "12703                                                                                                                                                                                                                        3 cups Cabbage (Patta Gobi/ Muttaikose) , finely chopped 1/2 cup Green peas (Matar) 1 teaspoon Mustard seeds (Rai/ Kadugu) 1 Bay leaf (tej patta) , roughly torn 1 sprig Curry leaves , roughly torn 1 Tomato , finely chopped 1/2 teaspoon Turmeric powder (Haldi) 1/2 teaspoon Red Chilli powder 1/2 teaspoon Garam masala powder Salt , to taste Oil , for cooking  \n",
      "12704                                                                                                                                                                                                                                     Ingredients 300 grams Kaddu (Parangikai/ Pumpkin) 1/2 teaspoon Turmeric powder (Haldi) 2 teaspoons Jaggery Salt , to taste To Grind 1/2 cup Fresh coconut , grated 1 Green Chilli 1 inch Ginger , grated 1 sprig Curry leaves To Season 1 teaspoon Oil 1/2 teaspoon Mustard seeds (Rai/ Kadugu) 1/2 teaspoon White Urad Dal (Split) 1 sprig Curry leaves  \n",
      "\n",
      "[12705 rows x 4 columns]\n"
     ]
    }
   ],
   "source": [
    "print(\"Total Recipes Before Removing Duplicates:\", len(df))\n",
    "\n",
    "# Check for duplicate recipes based on name & ingredients\n",
    "duplicate_rows = df[df.duplicated(subset=[\"name\", \"ingredients\"], keep=False)]\n",
    "print(\"Number of Duplicate Entries:\", len(duplicate_rows))\n",
    "\n",
    "# Display duplicates\n",
    "print(duplicate_rows)\n"
   ]
  },
  {
   "cell_type": "code",
   "execution_count": 14,
   "id": "8110d541-9ddb-4761-aa4b-7e652e5007b2",
   "metadata": {},
   "outputs": [
    {
     "name": "stdout",
     "output_type": "stream",
     "text": [
      "✅ Removed all recipes from MongoDB!\n"
     ]
    }
   ],
   "source": [
    "collection.delete_many({})\n",
    "print(\"✅ Removed all recipes from MongoDB!\")\n"
   ]
  },
  {
   "cell_type": "code",
   "execution_count": 15,
   "id": "b1e10fcf-f3bb-4981-a7cf-66ff4bed7118",
   "metadata": {},
   "outputs": [
    {
     "name": "stdout",
     "output_type": "stream",
     "text": [
      "✅ Inserted cleaned recipes into MongoDB!\n"
     ]
    }
   ],
   "source": [
    "recipes_cleaned = df.to_dict(orient=\"records\")\n",
    "collection.insert_many(recipes_cleaned)\n",
    "print(\"✅ Inserted cleaned recipes into MongoDB!\")\n"
   ]
  },
  {
   "cell_type": "code",
   "execution_count": 16,
   "id": "8ab1194a-3023-422f-a668-01400bd71082",
   "metadata": {},
   "outputs": [
    {
     "name": "stdout",
     "output_type": "stream",
     "text": [
      "✅ Total Recipes in MongoDB After Cleaning: 12705\n"
     ]
    }
   ],
   "source": [
    "recipe_count = collection.count_documents({})\n",
    "print(\"✅ Total Recipes in MongoDB After Cleaning:\", recipe_count)\n"
   ]
  },
  {
   "cell_type": "code",
   "execution_count": 17,
   "id": "24b2574e-02f6-45b0-85ce-d627a2a5fd0f",
   "metadata": {},
   "outputs": [
    {
     "name": "stdout",
     "output_type": "stream",
     "text": [
      "✅ All recipes deleted! Current recipe count in MongoDB: 0\n"
     ]
    }
   ],
   "source": [
    "# Delete ALL recipes from MongoDB\n",
    "collection.delete_many({})\n",
    "\n",
    "# Verify that the database is now empty\n",
    "recipe_count = collection.count_documents({})\n",
    "print(\"✅ All recipes deleted! Current recipe count in MongoDB:\", recipe_count)\n"
   ]
  },
  {
   "cell_type": "code",
   "execution_count": 1,
   "id": "0e4ca40e-4811-46cb-8611-d45df5ed9311",
   "metadata": {},
   "outputs": [
    {
     "name": "stdout",
     "output_type": "stream",
     "text": [
      "Available Filters: Index(['name', 'image_url', 'description', 'cuisine', 'course', 'diet',\n",
      "       'prep_time', 'ingredients', 'instructions'],\n",
      "      dtype='object')\n"
     ]
    }
   ],
   "source": [
    "import pandas as pd\n",
    "import pymongo\n",
    "\n",
    "# Connect to MongoDB\n",
    "client = pymongo.MongoClient(\"mongodb://localhost:27017/\")\n",
    "db = client[\"recipe_db\"]\n",
    "collection = db[\"recipes\"]\n",
    "\n",
    "# Load dataset\n",
    "recipes = list(collection.find({}, {\"_id\": 0}))  # Get all fields\n",
    "df = pd.DataFrame(recipes)\n",
    "\n",
    "# Show all column names\n",
    "print(\"Available Filters:\", df.columns)\n"
   ]
  },
  {
   "cell_type": "code",
   "execution_count": 2,
   "id": "dcc583fc-36a8-43bb-a22e-64adf60512e2",
   "metadata": {},
   "outputs": [
    {
     "name": "stdout",
     "output_type": "stream",
     "text": [
      "Unique Cuisines: ['Indian' 'South Indian Recipes' 'Goan Recipes' 'North Indian Recipes'\n",
      " 'Assamese' 'Tamil Nadu' 'Karnataka' 'Malvani' 'Kerala Recipes'\n",
      " 'Gujarati Recipes\\ufeff' 'Sindhi' 'Konkan' 'Hyderabadi' 'Andhra' 'Coorg'\n",
      " 'Bengali Recipes' 'Mangalorean' 'Kongunadu' 'Punjabi' 'Udupi' 'Pakistani'\n",
      " 'Chettinad' 'Rajasthani' 'Nepalese' 'Coastal Karnataka' 'Indo Chinese'\n",
      " 'Parsi Recipes' 'Kashmiri' 'South Karnataka' 'Mughlai' 'Asian' 'Bihari'\n",
      " 'Maharashtrian Recipes' 'North East India Recipes' 'Himachal'\n",
      " 'Uttar Pradesh' 'Awadhi' 'Sichuan' 'North Karnataka' 'Middle Eastern'\n",
      " 'Oriya Recipes' 'Uttarakhand-North Kumaon ' 'Lucknowi' 'Chinese'\n",
      " 'Haryana' 'Fusion' 'Unknown' 'Malabar' 'Continental' 'Jharkhand'\n",
      " 'Sri Lankan' 'Thai' 'Arab' 'Nagaland' 'Afghan' 'African']\n",
      "Unique Courses: ['Lunch' 'Appetizer' 'Dinner' 'Side Dish' 'South Indian Breakfast'\n",
      " 'Indian Breakfast' 'Main Course' 'North Indian Breakfast' 'One Pot Dish'\n",
      " 'World Breakfast' 'Dessert' 'Unknown' 'Snack' 'Brunch']\n",
      "Unique Diets: ['Vegetarian' 'Non Vegeterian' 'Diabetic Friendly'\n",
      " 'High Protein Non Vegetarian' 'Vegan' 'High Protein Vegetarian'\n",
      " 'No Onion No Garlic (Sattvic)' 'Eggetarian' 'Unknown' 'Gluten Free']\n"
     ]
    }
   ],
   "source": [
    "# Show unique values for each filter\n",
    "print(\"Unique Cuisines:\", df[\"cuisine\"].dropna().unique())\n",
    "print(\"Unique Courses:\", df[\"course\"].dropna().unique())\n",
    "print(\"Unique Diets:\", df[\"diet\"].dropna().unique())\n"
   ]
  },
  {
   "cell_type": "code",
   "execution_count": 3,
   "id": "c336b42f-8a8d-4cb1-a377-9d7b8612ce1a",
   "metadata": {},
   "outputs": [
    {
     "name": "stdout",
     "output_type": "stream",
     "text": [
      "🔍 Found Invalid Rows: 0\n",
      "Empty DataFrame\n",
      "Columns: [name, image_url, description, cuisine, course, diet, prep_time, ingredients, instructions]\n",
      "Index: []\n"
     ]
    }
   ],
   "source": [
    "# Check if any ingredients are empty, None, or wrongly formatted\n",
    "invalid_rows = df[(df[\"ingredients\"].isna()) | (df[\"ingredients\"] == \"[]\") | (df[\"ingredients\"] == \" \") | (df[\"ingredients\"] == \"None\")]\n",
    "print(\"🔍 Found Invalid Rows:\", len(invalid_rows))\n",
    "print(invalid_rows.head())\n"
   ]
  },
  {
   "cell_type": "code",
   "execution_count": 1,
   "id": "ef69dd1f-4f2d-46c2-b095-424c9fa788ae",
   "metadata": {},
   "outputs": [
    {
     "ename": "NameError",
     "evalue": "name 'df' is not defined",
     "output_type": "error",
     "traceback": [
      "\u001b[31m---------------------------------------------------------------------------\u001b[39m",
      "\u001b[31mNameError\u001b[39m                                 Traceback (most recent call last)",
      "\u001b[36mCell\u001b[39m\u001b[36m \u001b[39m\u001b[32mIn[1]\u001b[39m\u001b[32m, line 1\u001b[39m\n\u001b[32m----> \u001b[39m\u001b[32m1\u001b[39m \u001b[43mdf\u001b[49m.info()\n",
      "\u001b[31mNameError\u001b[39m: name 'df' is not defined"
     ]
    }
   ],
   "source": [
    "df.info()"
   ]
  },
  {
   "cell_type": "code",
   "execution_count": null,
   "id": "0ae728d7-6482-492a-84fa-b34363aba7f7",
   "metadata": {},
   "outputs": [],
   "source": []
  }
 ],
 "metadata": {
  "kernelspec": {
   "display_name": "Python 3 (ipykernel)",
   "language": "python",
   "name": "python3"
  },
  "language_info": {
   "codemirror_mode": {
    "name": "ipython",
    "version": 3
   },
   "file_extension": ".py",
   "mimetype": "text/x-python",
   "name": "python",
   "nbconvert_exporter": "python",
   "pygments_lexer": "ipython3",
   "version": "3.12.7"
  }
 },
 "nbformat": 4,
 "nbformat_minor": 5
}
